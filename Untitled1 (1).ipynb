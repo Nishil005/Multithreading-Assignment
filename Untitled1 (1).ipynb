{
 "cells": [
  {
   "cell_type": "markdown",
   "id": "1d877a23-82bf-4d77-bd68-67bc67e0023a",
   "metadata": {},
   "source": [
    "Q1. What is multithreading in python? Why is it used? Name the module used to handle threads in python."
   ]
  },
  {
   "cell_type": "markdown",
   "id": "2b807bf6-4101-4f3c-90c4-6ee3c2ef6f86",
   "metadata": {},
   "source": [
    "Python uses the term \"multithreading\" to describe a program's capacity to run many threads simultaneously. Within a programme, a thread is a unique flow of execution. A Python programme can execute many processes concurrently by using threads, which improves performance and responsiveness.\n",
    "\n",
    "When a programme needs to handle several activities at once, such as managing several user requests, processing a lot of data, or executing I/O operations, multithreading is frequently utilised. It enables the programme to utilise system resources more effectively and can greatly increase the program's overall effectiveness.\n",
    "\n",
    "In Python, the threading module is used to handle threads."
   ]
  },
  {
   "cell_type": "markdown",
   "id": "f4796664-0bde-4737-aec4-971a18d4e452",
   "metadata": {},
   "source": [
    "Q2. Why threading module used? Write the use of the following functions:\n",
    "1. activecount()\n",
    "2. currentThread()\n",
    "3. enumerate()"
   ]
  },
  {
   "cell_type": "markdown",
   "id": "b6bda2b1-c3b8-49af-a852-a59be070b39b",
   "metadata": {},
   "source": [
    "Python's threading module is used to manage and create threads within programmes. Compared to lower-level modules like thread or _thread, it offers a high-level interface that makes using threads simpler.\n",
    "\n",
    "The function active_count() is used to determine how many Thread objects are active at any given time. The number of active or running threads in the active Python process is returned. Daemonic and non-daemonic threads are both included in this. It can be useful for keeping track of a program's active thread count.\n",
    "\n",
    "Current thread of execution's Thread object is returned by the current_thread() function. Within a thread function, it is frequently used to get a reference to the thread that is presently running. This can be helpful for carrying out actions particular to the current thread, such accessing thread-local data or determining the thread's status.\n",
    "\n",
    "Enumerate(): The enumerate() function provides a list of all Thread objects that are currently active. It can be used to get a list of every thread that is active right now in the programme. The main thread and any other active threads are included in the list that is returned by default. Enumerate()'s primary function is to iterate through all running threads and carry out actions on them, such checking their state, killing them, or accessing their characteristics."
   ]
  },
  {
   "cell_type": "markdown",
   "id": "8889af65-57b0-4a01-9b98-edcb306f7daf",
   "metadata": {},
   "source": [
    "Q3. Explain the following functions:\n",
    "1. run()\n",
    "run(): The thread's activity begins with the run() method. When a thread is formed, its behaviour can be specified by overriding the run() method in a subclass. The code that will be run by the thread when it is started is included in the run() method. The activities that the thread should take should be specified in the subclass.\n",
    "\n",
    "2. start()\n",
    "start(): To begin a thread's execution, use the start() method. It calls the thread's run() method after initialising it. When start() is used, a second thread of control will be used to perform the thread's run() procedure. It enables numerous threads to operate simultaneously. It's critical to remember that each thread should only get one call to start().\n",
    "\n",
    "3. join()\n",
    "join(): This function is used to watch for a thread to finish running. The caller thread can use join() to wait for the completion of the thread it is joining after starting a thread using start(). Until the connected thread is finished, the caller thread will block. This is helpful if you want to be sure that each thread has completed its work before moving on or if you need to synchronise the execution of several threads.\n",
    "\n",
    "4. isAIive()\n",
    "is_alive(): This method determines whether a thread is active and operating at the moment. If the thread is active—that is, if it has been begun and hasn't already ended—it returns True. If not, it returns False."
   ]
  },
  {
   "cell_type": "markdown",
   "id": "592f800d-57f5-4560-97b3-8e2152bb00f0",
   "metadata": {},
   "source": [
    "Q4. Write a python program to create two threads. Thread one must print the list of squares and thread\n",
    "two must print the list of cubes."
   ]
  },
  {
   "cell_type": "code",
   "execution_count": 4,
   "id": "0a61e6c1-0f3b-4d87-99da-78722ebf9b3d",
   "metadata": {},
   "outputs": [
    {
     "name": "stdout",
     "output_type": "stream",
     "text": [
      "1\n",
      "4\n",
      "9\n",
      "16\n",
      "25\n",
      "36\n",
      "49\n",
      "64\n",
      "81\n",
      "100\n",
      "1\n",
      "8\n",
      "27\n",
      "64\n",
      "125\n",
      "216\n",
      "343\n",
      "512\n",
      "729\n",
      "1000\n"
     ]
    }
   ],
   "source": [
    "import threading\n",
    "\n",
    "def print_squares():\n",
    "    squares = [x**2 for x in range(1, 11)]\n",
    "    for num in squares:\n",
    "        print(num)\n",
    "\n",
    "def print_cubes():\n",
    "    cubes = [x**3 for x in range(1, 11)]\n",
    "    for num in cubes:\n",
    "        print(num)\n",
    "t1 = threading.Thread(target=print_squares)\n",
    "t2 = threading.Thread(target=print_cubes)\n",
    "\n",
    "t1.start()\n",
    "t2.start()\n",
    "\n",
    "t1.join()\n",
    "t2.join()"
   ]
  },
  {
   "cell_type": "markdown",
   "id": "8ed3bc1b-5bce-4970-bb60-adb551167e0c",
   "metadata": {},
   "source": [
    "Q5. State advantages and disadvantages of multithreading."
   ]
  },
  {
   "cell_type": "code",
   "execution_count": null,
   "id": "92a29eb3-f232-4096-8c28-68993f0b2053",
   "metadata": {},
   "outputs": [],
   "source": [
    "Advantages of Multithreading:\n",
    "Improved Responsiveness\n",
    "Enhanced Performance \n",
    "Resource Sharing\n",
    "Concurrent Operations\n",
    "    \n",
    "Disadvantages of Multithreading:\n",
    "Increased Complexity\n",
    "Difficult Debugging\n",
    "Resource Overhead\n",
    "Limited Scalability"
   ]
  },
  {
   "cell_type": "markdown",
   "id": "f3e3e7ac-2e7a-4854-bfa0-83b8ff4b2a64",
   "metadata": {},
   "source": [
    "Q6. Explain deadlocks and race conditions."
   ]
  },
  {
   "cell_type": "markdown",
   "id": "e147fcaa-5b91-436e-9bc6-de5cdd0d2a14",
   "metadata": {},
   "source": [
    "Deadlocks: In a deadlock, two or more threads are kept in an endless cycle of waiting for resources that one thread in the deadlock is holding. In other words, the threads are helpless to move forward since they are halted in a loop.\n",
    "\n",
    "Race Conditions: A race condition happens when a program's behaviour depends on the relative timing or interleaving of many threads, leading to a nondeterministic programme output. When many threads manipulate shared resources simultaneously without sufficient synchronisation, it occurs."
   ]
  }
 ],
 "metadata": {
  "kernelspec": {
   "display_name": "Python 3 (ipykernel)",
   "language": "python",
   "name": "python3"
  },
  "language_info": {
   "codemirror_mode": {
    "name": "ipython",
    "version": 3
   },
   "file_extension": ".py",
   "mimetype": "text/x-python",
   "name": "python",
   "nbconvert_exporter": "python",
   "pygments_lexer": "ipython3",
   "version": "3.10.8"
  }
 },
 "nbformat": 4,
 "nbformat_minor": 5
}
